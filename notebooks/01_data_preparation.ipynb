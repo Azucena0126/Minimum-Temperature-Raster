{
 "cells": [
  {
   "cell_type": "markdown",
   "id": "58d89407-7c3d-4c98-83f7-bf12590269dd",
   "metadata": {},
   "source": [
    "# 1. Data Preparation – Tmin Peru Raster\n",
    "  \n",
    "**Repositorio:** `Minimum-Temperature-Raster`  \n",
    "**Objetivo:** Preparar los insumos base (raster y shapefile) para el análisis de temperaturas mínimas (Tmin) del Perú.  \n",
    "\n",
    "---\n",
    "\n",
    "### Propósito\n",
    "\n",
    "1. Cargar y limpiar los límites administrativos (departamentos, provincias o distritos).  \n",
    "2. Asegurar que los campos `NOMBRE`/`UBIGEO` estén **en mayúsculas** y **sin tildes**.  \n",
    "3. Cargar el raster GeoTIFF de **temperatura mínima (Tmin)** y verificar su estructura.  \n",
    "4. Preparar un bucle para iterar sobre las bandas (asumiendo Band 1 = año 2020, etc.).  \n"
   ]
  },
  {
   "cell_type": "markdown",
   "id": "b45a1b74-cc2e-43a9-ad2c-896be068eed9",
   "metadata": {},
   "source": [
    "**Importar librerías**"
   ]
  },
  {
   "cell_type": "code",
   "execution_count": 8,
   "id": "f399dba4-beb4-425d-8e15-6d6bf90d1b43",
   "metadata": {},
   "outputs": [],
   "source": [
    "#En Anaconda Prompt\n",
    "#pip install -r requirements.txt"
   ]
  },
  {
   "cell_type": "code",
   "execution_count": 2,
   "id": "3e2b829f-262b-4e9f-9a06-30309b491bb4",
   "metadata": {},
   "outputs": [],
   "source": [
    "import geopandas as gpd\n",
    "import rasterio\n",
    "import rioxarray\n",
    "import pandas as pd\n",
    "import matplotlib.pyplot as plt\n",
    "from unidecode import unidecode\n",
    "from rasterio.plot import show"
   ]
  },
  {
   "cell_type": "markdown",
   "id": "1b941715-6745-403c-96b4-26b043e434db",
   "metadata": {},
   "source": [
    "## 1.1 Cargar shapefile de límites administrativos\n",
    "\n",
    "En este paso cargamos el shapefile del Perú (departamentos, provincias o distritos).  \n",
    "Usamos rutas **relativas** (`data/raw/`) para asegurar reproducibilidad.\n",
    "\n",
    "Tenemos carpetas: district, province, department."
   ]
  },
  {
   "cell_type": "code",
   "execution_count": 10,
   "id": "5ef3d3f5-9b53-4d91-b434-56823fc5fac5",
   "metadata": {},
   "outputs": [
    {
     "name": "stdout",
     "output_type": "stream",
     "text": [
      "C:\\Users\\Michael Encalada\\Documents\\GitHub\\QLAB\\diplo\\Minimum-Temperature-Raster\\notebooks\n"
     ]
    }
   ],
   "source": [
    "import os\n",
    "\n",
    "# Mostrar el directorio de trabajo actual\n",
    "print(os.getcwd())\n"
   ]
  },
  {
   "cell_type": "code",
   "execution_count": 11,
   "id": "44205ed2-9424-4f2f-a305-8765b30dc1c3",
   "metadata": {},
   "outputs": [],
   "source": [
    "# Cambiar el directorio\n",
    "os.chdir(\"C:/Users/Michael Encalada/Documents/GitHub/QLAB/diplo/Minimum-Temperature-Raster\")"
   ]
  },
  {
   "cell_type": "code",
   "execution_count": 13,
   "id": "dbb97ae7-0e2d-484b-aff0-5474f88ec06c",
   "metadata": {},
   "outputs": [],
   "source": [
    "import geopandas as gpd\n",
    "import os\n",
    "\n",
    "# Definir rutas relativas\n",
    "base_path = \"data/raw\"\n",
    "\n",
    "# Rutas a cada nivel administrativo\n",
    "shp_department = os.path.join(base_path, \"department\", \"Departamental INEI 2023 geogpsperu SuyoPomalia.shp\")\n",
    "shp_province   = os.path.join(base_path, \"province\", \"Provincial INEI 2023 geogpsperu SuyoPomalia.shp\")\n",
    "shp_district   = os.path.join(base_path, \"district\", \"Distrital INEI 2023 geogpsperu SuyoPomalia.shp\")\n",
    "\n",
    "#Cargar shapefiles\n",
    "dept = gpd.read_file(shp_department)\n",
    "prov = gpd.read_file(shp_province)\n",
    "dist = gpd.read_file(shp_district)\n"
   ]
  },
  {
   "cell_type": "markdown",
   "id": "e64e8aa4-1589-4929-99e8-4cbfa93aa792",
   "metadata": {},
   "source": [
    "## 1.2 Limpieza de campos: nombres y acentos\n",
    "\n",
    "Comprobamos que todos los nombres de columnas esten en mayúsculas y eliminamos los acentos o tildes de los nombres geográficos.  \n",
    "Esto evita errores al hacer merges o zonal statistics.\n"
   ]
  },
  {
   "cell_type": "markdown",
   "id": "82736c8b-6593-4e55-a811-bc4adb9bd3e0",
   "metadata": {},
   "source": [
    "**A.** Limpieza por departamento"
   ]
  },
  {
   "cell_type": "code",
   "execution_count": 14,
   "id": "c12f7c50-f133-4878-b5e7-0090371466b7",
   "metadata": {},
   "outputs": [
    {
     "data": {
      "text/html": [
       "<div>\n",
       "<style scoped>\n",
       "    .dataframe tbody tr th:only-of-type {\n",
       "        vertical-align: middle;\n",
       "    }\n",
       "\n",
       "    .dataframe tbody tr th {\n",
       "        vertical-align: top;\n",
       "    }\n",
       "\n",
       "    .dataframe thead th {\n",
       "        text-align: right;\n",
       "    }\n",
       "</style>\n",
       "<table border=\"1\" class=\"dataframe\">\n",
       "  <thead>\n",
       "    <tr style=\"text-align: right;\">\n",
       "      <th></th>\n",
       "      <th>CCDD</th>\n",
       "      <th>DEPARTAMEN</th>\n",
       "      <th>OBJECTID</th>\n",
       "      <th>ESRI_OID</th>\n",
       "      <th>geometry</th>\n",
       "    </tr>\n",
       "  </thead>\n",
       "  <tbody>\n",
       "    <tr>\n",
       "      <th>0</th>\n",
       "      <td>01</td>\n",
       "      <td>AMAZONAS</td>\n",
       "      <td>1.0</td>\n",
       "      <td>1.0</td>\n",
       "      <td>POLYGON ((-77.81399 -2.99278, -77.81483 -2.995...</td>\n",
       "    </tr>\n",
       "    <tr>\n",
       "      <th>1</th>\n",
       "      <td>02</td>\n",
       "      <td>ANCASH</td>\n",
       "      <td>2.0</td>\n",
       "      <td>2.0</td>\n",
       "      <td>POLYGON ((-77.64697 -8.05086, -77.64689 -8.051...</td>\n",
       "    </tr>\n",
       "    <tr>\n",
       "      <th>2</th>\n",
       "      <td>03</td>\n",
       "      <td>APURIMAC</td>\n",
       "      <td>3.0</td>\n",
       "      <td>3.0</td>\n",
       "      <td>POLYGON ((-73.74655 -13.17442, -73.7457 -13.17...</td>\n",
       "    </tr>\n",
       "  </tbody>\n",
       "</table>\n",
       "</div>"
      ],
      "text/plain": [
       "  CCDD DEPARTAMEN  OBJECTID  ESRI_OID  \\\n",
       "0   01   AMAZONAS       1.0       1.0   \n",
       "1   02     ANCASH       2.0       2.0   \n",
       "2   03   APURIMAC       3.0       3.0   \n",
       "\n",
       "                                            geometry  \n",
       "0  POLYGON ((-77.81399 -2.99278, -77.81483 -2.995...  \n",
       "1  POLYGON ((-77.64697 -8.05086, -77.64689 -8.051...  \n",
       "2  POLYGON ((-73.74655 -13.17442, -73.7457 -13.17...  "
      ]
     },
     "execution_count": 14,
     "metadata": {},
     "output_type": "execute_result"
    }
   ],
   "source": [
    "# Mostrar una vista previa de las columnas clave\n",
    "dept.head(3)"
   ]
  },
  {
   "cell_type": "code",
   "execution_count": 18,
   "id": "e3addcb6-e338-4abe-aa79-ccdd2a211e8c",
   "metadata": {},
   "outputs": [
    {
     "data": {
      "text/html": [
       "<div>\n",
       "<style scoped>\n",
       "    .dataframe tbody tr th:only-of-type {\n",
       "        vertical-align: middle;\n",
       "    }\n",
       "\n",
       "    .dataframe tbody tr th {\n",
       "        vertical-align: top;\n",
       "    }\n",
       "\n",
       "    .dataframe thead th {\n",
       "        text-align: right;\n",
       "    }\n",
       "</style>\n",
       "<table border=\"1\" class=\"dataframe\">\n",
       "  <thead>\n",
       "    <tr style=\"text-align: right;\">\n",
       "      <th></th>\n",
       "      <th>CCDD</th>\n",
       "      <th>DEPARTAMENTO</th>\n",
       "      <th>geometry</th>\n",
       "    </tr>\n",
       "  </thead>\n",
       "  <tbody>\n",
       "    <tr>\n",
       "      <th>0</th>\n",
       "      <td>01</td>\n",
       "      <td>AMAZONAS</td>\n",
       "      <td>POLYGON ((-77.81399 -2.99278, -77.81483 -2.995...</td>\n",
       "    </tr>\n",
       "    <tr>\n",
       "      <th>1</th>\n",
       "      <td>02</td>\n",
       "      <td>ANCASH</td>\n",
       "      <td>POLYGON ((-77.64697 -8.05086, -77.64689 -8.051...</td>\n",
       "    </tr>\n",
       "    <tr>\n",
       "      <th>2</th>\n",
       "      <td>03</td>\n",
       "      <td>APURIMAC</td>\n",
       "      <td>POLYGON ((-73.74655 -13.17442, -73.7457 -13.17...</td>\n",
       "    </tr>\n",
       "  </tbody>\n",
       "</table>\n",
       "</div>"
      ],
      "text/plain": [
       "  CCDD DEPARTAMENTO                                           geometry\n",
       "0   01     AMAZONAS  POLYGON ((-77.81399 -2.99278, -77.81483 -2.995...\n",
       "1   02       ANCASH  POLYGON ((-77.64697 -8.05086, -77.64689 -8.051...\n",
       "2   03     APURIMAC  POLYGON ((-73.74655 -13.17442, -73.7457 -13.17..."
      ]
     },
     "execution_count": 18,
     "metadata": {},
     "output_type": "execute_result"
    }
   ],
   "source": [
    "\n",
    "# Renombrar columnas a formato estándar en mayúsculas\n",
    "dept = dept.rename(columns={\n",
    "    'CDD': 'CCDD',\n",
    "    'DEPARTAMEN': 'DEPARTAMENTO'})\n",
    "\n",
    "# Eliminar columnas innecesarias\n",
    "dept = dept.drop(columns=['OBJECTID', 'ESRI_OID'], errors='ignore')\n",
    "\n",
    "# Asegurar tipo de dato correcto para el código (como string de 2 dígitos)\n",
    "dept['CCDD'] = dept['CCDD'].astype(str).str.zfill(2)\n",
    "\n",
    "# Normalizar nombres de departamento (en mayúsculas y sin espacios)\n",
    "dept['DEPARTAMENTO'] = dept['DEPARTAMENTO'].str.strip().str.upper()\n",
    "\n",
    "# Verificar resultado\n",
    "dept.head(3)\n"
   ]
  },
  {
   "cell_type": "markdown",
   "id": "2be509ff-d938-4f0d-8152-597d8aefc48f",
   "metadata": {},
   "source": [
    "**B.** Limpieza Provincia"
   ]
  },
  {
   "cell_type": "code",
   "execution_count": 15,
   "id": "edf8f70e-11bd-4534-abb2-52dd7cdca82f",
   "metadata": {},
   "outputs": [
    {
     "data": {
      "text/html": [
       "<div>\n",
       "<style scoped>\n",
       "    .dataframe tbody tr th:only-of-type {\n",
       "        vertical-align: middle;\n",
       "    }\n",
       "\n",
       "    .dataframe tbody tr th {\n",
       "        vertical-align: top;\n",
       "    }\n",
       "\n",
       "    .dataframe thead th {\n",
       "        text-align: right;\n",
       "    }\n",
       "</style>\n",
       "<table border=\"1\" class=\"dataframe\">\n",
       "  <thead>\n",
       "    <tr style=\"text-align: right;\">\n",
       "      <th></th>\n",
       "      <th>OBJECTID</th>\n",
       "      <th>CCDD</th>\n",
       "      <th>CCPP</th>\n",
       "      <th>DEPARTAMEN</th>\n",
       "      <th>PROVINCIA</th>\n",
       "      <th>geometry</th>\n",
       "    </tr>\n",
       "  </thead>\n",
       "  <tbody>\n",
       "    <tr>\n",
       "      <th>0</th>\n",
       "      <td>1.0</td>\n",
       "      <td>01</td>\n",
       "      <td>01</td>\n",
       "      <td>AMAZONAS</td>\n",
       "      <td>CHACHAPOYAS</td>\n",
       "      <td>POLYGON ((-77.72614 -5.94354, -77.72486 -5.943...</td>\n",
       "    </tr>\n",
       "    <tr>\n",
       "      <th>1</th>\n",
       "      <td>2.0</td>\n",
       "      <td>01</td>\n",
       "      <td>02</td>\n",
       "      <td>AMAZONAS</td>\n",
       "      <td>BAGUA</td>\n",
       "      <td>POLYGON ((-78.61909 -4.51001, -78.61802 -4.510...</td>\n",
       "    </tr>\n",
       "    <tr>\n",
       "      <th>2</th>\n",
       "      <td>3.0</td>\n",
       "      <td>01</td>\n",
       "      <td>03</td>\n",
       "      <td>AMAZONAS</td>\n",
       "      <td>BONGARA</td>\n",
       "      <td>POLYGON ((-77.72759 -5.1403, -77.72361 -5.1406...</td>\n",
       "    </tr>\n",
       "  </tbody>\n",
       "</table>\n",
       "</div>"
      ],
      "text/plain": [
       "   OBJECTID CCDD CCPP DEPARTAMEN    PROVINCIA  \\\n",
       "0       1.0   01   01   AMAZONAS  CHACHAPOYAS   \n",
       "1       2.0   01   02   AMAZONAS        BAGUA   \n",
       "2       3.0   01   03   AMAZONAS      BONGARA   \n",
       "\n",
       "                                            geometry  \n",
       "0  POLYGON ((-77.72614 -5.94354, -77.72486 -5.943...  \n",
       "1  POLYGON ((-78.61909 -4.51001, -78.61802 -4.510...  \n",
       "2  POLYGON ((-77.72759 -5.1403, -77.72361 -5.1406...  "
      ]
     },
     "execution_count": 15,
     "metadata": {},
     "output_type": "execute_result"
    }
   ],
   "source": [
    "# Mostrar una vista previa de las columnas clave\n",
    "prov.head(3)"
   ]
  },
  {
   "cell_type": "code",
   "execution_count": 20,
   "id": "cdb47a00-0c7d-4f32-9bb4-989592a5ffc6",
   "metadata": {},
   "outputs": [
    {
     "data": {
      "text/html": [
       "<div>\n",
       "<style scoped>\n",
       "    .dataframe tbody tr th:only-of-type {\n",
       "        vertical-align: middle;\n",
       "    }\n",
       "\n",
       "    .dataframe tbody tr th {\n",
       "        vertical-align: top;\n",
       "    }\n",
       "\n",
       "    .dataframe thead th {\n",
       "        text-align: right;\n",
       "    }\n",
       "</style>\n",
       "<table border=\"1\" class=\"dataframe\">\n",
       "  <thead>\n",
       "    <tr style=\"text-align: right;\">\n",
       "      <th></th>\n",
       "      <th>OBJECTID</th>\n",
       "      <th>CCDD</th>\n",
       "      <th>CCPP</th>\n",
       "      <th>DEPARTAMEN</th>\n",
       "      <th>PROVINCIA</th>\n",
       "      <th>GEOMETRY</th>\n",
       "    </tr>\n",
       "  </thead>\n",
       "  <tbody>\n",
       "    <tr>\n",
       "      <th>0</th>\n",
       "      <td>1.0</td>\n",
       "      <td>01</td>\n",
       "      <td>01</td>\n",
       "      <td>AMAZONAS</td>\n",
       "      <td>CHACHAPOYAS</td>\n",
       "      <td>POLYGON ((-77.72614 -5.94354, -77.72486 -5.943...</td>\n",
       "    </tr>\n",
       "    <tr>\n",
       "      <th>1</th>\n",
       "      <td>2.0</td>\n",
       "      <td>01</td>\n",
       "      <td>02</td>\n",
       "      <td>AMAZONAS</td>\n",
       "      <td>BAGUA</td>\n",
       "      <td>POLYGON ((-78.61909 -4.51001, -78.61802 -4.510...</td>\n",
       "    </tr>\n",
       "    <tr>\n",
       "      <th>2</th>\n",
       "      <td>3.0</td>\n",
       "      <td>01</td>\n",
       "      <td>03</td>\n",
       "      <td>AMAZONAS</td>\n",
       "      <td>BONGARA</td>\n",
       "      <td>POLYGON ((-77.72759 -5.1403, -77.72361 -5.1406...</td>\n",
       "    </tr>\n",
       "    <tr>\n",
       "      <th>3</th>\n",
       "      <td>4.0</td>\n",
       "      <td>01</td>\n",
       "      <td>04</td>\n",
       "      <td>AMAZONAS</td>\n",
       "      <td>CONDORCANQUI</td>\n",
       "      <td>POLYGON ((-77.81399 -2.99278, -77.81483 -2.995...</td>\n",
       "    </tr>\n",
       "    <tr>\n",
       "      <th>4</th>\n",
       "      <td>5.0</td>\n",
       "      <td>01</td>\n",
       "      <td>05</td>\n",
       "      <td>AMAZONAS</td>\n",
       "      <td>LUYA</td>\n",
       "      <td>POLYGON ((-78.13023 -5.9037, -78.13011 -5.9041...</td>\n",
       "    </tr>\n",
       "  </tbody>\n",
       "</table>\n",
       "</div>"
      ],
      "text/plain": [
       "   OBJECTID CCDD CCPP DEPARTAMEN     PROVINCIA  \\\n",
       "0       1.0   01   01   AMAZONAS   CHACHAPOYAS   \n",
       "1       2.0   01   02   AMAZONAS         BAGUA   \n",
       "2       3.0   01   03   AMAZONAS       BONGARA   \n",
       "3       4.0   01   04   AMAZONAS  CONDORCANQUI   \n",
       "4       5.0   01   05   AMAZONAS          LUYA   \n",
       "\n",
       "                                            GEOMETRY  \n",
       "0  POLYGON ((-77.72614 -5.94354, -77.72486 -5.943...  \n",
       "1  POLYGON ((-78.61909 -4.51001, -78.61802 -4.510...  \n",
       "2  POLYGON ((-77.72759 -5.1403, -77.72361 -5.1406...  \n",
       "3  POLYGON ((-77.81399 -2.99278, -77.81483 -2.995...  \n",
       "4  POLYGON ((-78.13023 -5.9037, -78.13011 -5.9041...  "
      ]
     },
     "execution_count": 20,
     "metadata": {},
     "output_type": "execute_result"
    }
   ],
   "source": [
    "from unidecode import unidecode\n",
    "\n",
    "# Normalizar nombres de columnas\n",
    "prov.columns = prov.columns.str.strip().str.upper()\n",
    "\n",
    "# Asegurar consistencia en nombres de departamentos y provincias\n",
    "prov['DEPARTAMEN'] = prov['DEPARTAMENTO'].apply(lambda x: unidecode(x.strip().upper()))\n",
    "prov['PROVINCIA'] = prov['PROVINCIA'].apply(lambda x: unidecode(x.strip().upper()))\n",
    "\n",
    "# Eliminar columnas innecesarias\n",
    "prov = prov.drop(columns=['OBJECTID'], errors='ignore')\n",
    "\n",
    "# Eliminar posibles duplicados\n",
    "prov = prov.drop_duplicates(subset=['CCDD', 'CCPP']).reset_index(drop=True)\n",
    "\n",
    "# Verificar \n",
    "prov.head(5)\n"
   ]
  },
  {
   "cell_type": "markdown",
   "id": "32d87b03-87a2-4549-be87-b59dadeb7f5d",
   "metadata": {},
   "source": [
    "**C.** Limpieza distrito"
   ]
  },
  {
   "cell_type": "code",
   "execution_count": 16,
   "id": "aa43e990-245e-432c-a1f6-af362c8fff8c",
   "metadata": {},
   "outputs": [
    {
     "data": {
      "text/html": [
       "<div>\n",
       "<style scoped>\n",
       "    .dataframe tbody tr th:only-of-type {\n",
       "        vertical-align: middle;\n",
       "    }\n",
       "\n",
       "    .dataframe tbody tr th {\n",
       "        vertical-align: top;\n",
       "    }\n",
       "\n",
       "    .dataframe thead th {\n",
       "        text-align: right;\n",
       "    }\n",
       "</style>\n",
       "<table border=\"1\" class=\"dataframe\">\n",
       "  <thead>\n",
       "    <tr style=\"text-align: right;\">\n",
       "      <th></th>\n",
       "      <th>UBIGEO</th>\n",
       "      <th>CCDD</th>\n",
       "      <th>CCPP</th>\n",
       "      <th>CCDI</th>\n",
       "      <th>DEPARTAMEN</th>\n",
       "      <th>PROVINCIA</th>\n",
       "      <th>DISTRITO</th>\n",
       "      <th>OBJECTID</th>\n",
       "      <th>ESRI_OID</th>\n",
       "      <th>geometry</th>\n",
       "    </tr>\n",
       "  </thead>\n",
       "  <tbody>\n",
       "    <tr>\n",
       "      <th>0</th>\n",
       "      <td>010101</td>\n",
       "      <td>01</td>\n",
       "      <td>01</td>\n",
       "      <td>01</td>\n",
       "      <td>AMAZONAS</td>\n",
       "      <td>CHACHAPOYAS</td>\n",
       "      <td>CHACHAPOYAS</td>\n",
       "      <td>1.0</td>\n",
       "      <td>1.0</td>\n",
       "      <td>POLYGON ((-77.8858 -6.1778, -77.88323 -6.17846...</td>\n",
       "    </tr>\n",
       "    <tr>\n",
       "      <th>1</th>\n",
       "      <td>010102</td>\n",
       "      <td>01</td>\n",
       "      <td>01</td>\n",
       "      <td>02</td>\n",
       "      <td>AMAZONAS</td>\n",
       "      <td>CHACHAPOYAS</td>\n",
       "      <td>ASUNCION</td>\n",
       "      <td>2.0</td>\n",
       "      <td>2.0</td>\n",
       "      <td>POLYGON ((-77.74482 -5.94497, -77.74482 -5.945...</td>\n",
       "    </tr>\n",
       "    <tr>\n",
       "      <th>2</th>\n",
       "      <td>010103</td>\n",
       "      <td>01</td>\n",
       "      <td>01</td>\n",
       "      <td>03</td>\n",
       "      <td>AMAZONAS</td>\n",
       "      <td>CHACHAPOYAS</td>\n",
       "      <td>BALSAS</td>\n",
       "      <td>3.0</td>\n",
       "      <td>3.0</td>\n",
       "      <td>POLYGON ((-77.9358 -6.69039, -77.93531 -6.6909...</td>\n",
       "    </tr>\n",
       "  </tbody>\n",
       "</table>\n",
       "</div>"
      ],
      "text/plain": [
       "   UBIGEO CCDD CCPP CCDI DEPARTAMEN    PROVINCIA     DISTRITO  OBJECTID  \\\n",
       "0  010101   01   01   01   AMAZONAS  CHACHAPOYAS  CHACHAPOYAS       1.0   \n",
       "1  010102   01   01   02   AMAZONAS  CHACHAPOYAS     ASUNCION       2.0   \n",
       "2  010103   01   01   03   AMAZONAS  CHACHAPOYAS       BALSAS       3.0   \n",
       "\n",
       "   ESRI_OID                                           geometry  \n",
       "0       1.0  POLYGON ((-77.8858 -6.1778, -77.88323 -6.17846...  \n",
       "1       2.0  POLYGON ((-77.74482 -5.94497, -77.74482 -5.945...  \n",
       "2       3.0  POLYGON ((-77.9358 -6.69039, -77.93531 -6.6909...  "
      ]
     },
     "execution_count": 16,
     "metadata": {},
     "output_type": "execute_result"
    }
   ],
   "source": [
    "# Mostrar una vista previa de las columnas clave\n",
    "dist.head(3)"
   ]
  },
  {
   "cell_type": "code",
   "execution_count": 21,
   "id": "5acfdcfc-6bb0-4109-a065-c58bb19305b3",
   "metadata": {},
   "outputs": [
    {
     "data": {
      "text/html": [
       "<div>\n",
       "<style scoped>\n",
       "    .dataframe tbody tr th:only-of-type {\n",
       "        vertical-align: middle;\n",
       "    }\n",
       "\n",
       "    .dataframe tbody tr th {\n",
       "        vertical-align: top;\n",
       "    }\n",
       "\n",
       "    .dataframe thead th {\n",
       "        text-align: right;\n",
       "    }\n",
       "</style>\n",
       "<table border=\"1\" class=\"dataframe\">\n",
       "  <thead>\n",
       "    <tr style=\"text-align: right;\">\n",
       "      <th></th>\n",
       "      <th>UBIGEO</th>\n",
       "      <th>CCDD</th>\n",
       "      <th>CCPP</th>\n",
       "      <th>CCDI</th>\n",
       "      <th>DEPARTAMEN</th>\n",
       "      <th>PROVINCIA</th>\n",
       "      <th>DISTRITO</th>\n",
       "      <th>OBJECTID</th>\n",
       "      <th>ESRI_OID</th>\n",
       "      <th>GEOMETRY</th>\n",
       "    </tr>\n",
       "  </thead>\n",
       "  <tbody>\n",
       "    <tr>\n",
       "      <th>0</th>\n",
       "      <td>010101</td>\n",
       "      <td>01</td>\n",
       "      <td>01</td>\n",
       "      <td>01</td>\n",
       "      <td>AMAZONAS</td>\n",
       "      <td>CHACHAPOYAS</td>\n",
       "      <td>CHACHAPOYAS</td>\n",
       "      <td>1.0</td>\n",
       "      <td>1.0</td>\n",
       "      <td>POLYGON ((-77.8858 -6.1778, -77.88323 -6.17846...</td>\n",
       "    </tr>\n",
       "    <tr>\n",
       "      <th>1</th>\n",
       "      <td>010102</td>\n",
       "      <td>01</td>\n",
       "      <td>01</td>\n",
       "      <td>02</td>\n",
       "      <td>AMAZONAS</td>\n",
       "      <td>CHACHAPOYAS</td>\n",
       "      <td>ASUNCION</td>\n",
       "      <td>2.0</td>\n",
       "      <td>2.0</td>\n",
       "      <td>POLYGON ((-77.74482 -5.94497, -77.74482 -5.945...</td>\n",
       "    </tr>\n",
       "    <tr>\n",
       "      <th>2</th>\n",
       "      <td>010103</td>\n",
       "      <td>01</td>\n",
       "      <td>01</td>\n",
       "      <td>03</td>\n",
       "      <td>AMAZONAS</td>\n",
       "      <td>CHACHAPOYAS</td>\n",
       "      <td>BALSAS</td>\n",
       "      <td>3.0</td>\n",
       "      <td>3.0</td>\n",
       "      <td>POLYGON ((-77.9358 -6.69039, -77.93531 -6.6909...</td>\n",
       "    </tr>\n",
       "  </tbody>\n",
       "</table>\n",
       "</div>"
      ],
      "text/plain": [
       "   UBIGEO CCDD CCPP CCDI DEPARTAMEN    PROVINCIA     DISTRITO  OBJECTID  \\\n",
       "0  010101   01   01   01   AMAZONAS  CHACHAPOYAS  CHACHAPOYAS       1.0   \n",
       "1  010102   01   01   02   AMAZONAS  CHACHAPOYAS     ASUNCION       2.0   \n",
       "2  010103   01   01   03   AMAZONAS  CHACHAPOYAS       BALSAS       3.0   \n",
       "\n",
       "   ESRI_OID                                           GEOMETRY  \n",
       "0       1.0  POLYGON ((-77.8858 -6.1778, -77.88323 -6.17846...  \n",
       "1       2.0  POLYGON ((-77.74482 -5.94497, -77.74482 -5.945...  \n",
       "2       3.0  POLYGON ((-77.9358 -6.69039, -77.93531 -6.6909...  "
      ]
     },
     "execution_count": 21,
     "metadata": {},
     "output_type": "execute_result"
    }
   ],
   "source": [
    "# Normalizar nombres de columnas\n",
    "dist.columns = dist.columns.str.strip().str.upper()\n",
    "\n",
    "# Asegurar consistencia en nombres\n",
    "for col in ['DEPARTAMEN', 'PROVINCIA', 'DISTRITO']:\n",
    "    dist[col] = dist[col].apply(lambda x: unidecode(x.strip().upper()))\n",
    "\n",
    "dist.head(3)"
   ]
  },
  {
   "cell_type": "markdown",
   "id": "6a94a56a-502c-4a8e-a6f2-934057b5b24e",
   "metadata": {},
   "source": [
    "## 1.3. Verificar y ajustar el sistema de coordenadas (CRS)\n",
    "\n",
    "Todos los datos deben estar en el sistema de referencia **EPSG:4326 (WGS 84)**  \n",
    "para que coincidan con el raster y sean compatibles con Streamlit Maps.  \n"
   ]
  },
  {
   "cell_type": "code",
   "execution_count": 27,
   "id": "d2266fbf-4798-4969-b65b-3292f2bb8656",
   "metadata": {},
   "outputs": [
    {
     "name": "stdout",
     "output_type": "stream",
     "text": [
      "CRS actual: EPSG:4326\n"
     ]
    }
   ],
   "source": [
    "import geopandas as gpd\n",
    "\n",
    "# Asegurar que GEOMETRY sea la geometría activa\n",
    "dist = dist.set_geometry(\"GEOMETRY\")\n",
    "\n",
    "# Verificar CRS\n",
    "print(\"CRS actual:\", dist.crs)\n",
    "\n"
   ]
  },
  {
   "cell_type": "code",
   "execution_count": null,
   "id": "ebb99059-def5-467d-819c-b9303b37034f",
   "metadata": {},
   "outputs": [],
   "source": [
    "Guardar shapefiles"
   ]
  },
  {
   "cell_type": "code",
   "execution_count": 28,
   "id": "54c2af9d-d9ef-4925-a449-a8d75c27ed8d",
   "metadata": {},
   "outputs": [
    {
     "name": "stderr",
     "output_type": "stream",
     "text": [
      "C:\\Users\\Michael Encalada\\AppData\\Local\\Temp\\ipykernel_19336\\936908139.py:2: UserWarning: Column names longer than 10 characters will be truncated when saved to ESRI Shapefile.\n",
      "  dept.to_file(\"data/processed/departamentos.shp\", driver=\"ESRI Shapefile\", encoding=\"utf-8\")\n",
      "C:\\Users\\Michael Encalada\\anaconda3\\envs\\geopandas\\lib\\site-packages\\pyogrio\\raw.py:723: RuntimeWarning: Normalized/laundered field name: 'DEPARTAMENTO' to 'DEPARTAMEN'\n",
      "  ogr_write(\n"
     ]
    }
   ],
   "source": [
    "# Guardar shapefiles reproyectados\n",
    "dept.to_file(\"data/processed/departamentos.shp\", driver=\"ESRI Shapefile\", encoding=\"utf-8\")\n",
    "prov.to_file(\"data/processed/provincias.shp\", driver=\"ESRI Shapefile\", encoding=\"utf-8\")\n",
    "dist.to_file(\"data/processed/distritos.shp\", driver=\"ESRI Shapefile\", encoding=\"utf-8\")"
   ]
  },
  {
   "cell_type": "markdown",
   "id": "890c1394-f437-4071-9e03-4f4b8c766582",
   "metadata": {},
   "source": [
    "## 1.5. Cargar y explorar el raster Tmin\n",
    "\n",
    "Abrimos el raster GeoTIFF (`tmin_raster.tif`), verificamos:\n",
    "- Número de bandas (puede representar años o meses)\n",
    "- CRS (debe ser el mismo que el shapefile)\n",
    "- Resolución espacial y extensión\n"
   ]
  },
  {
   "cell_type": "code",
   "execution_count": null,
   "id": "dc97c0cd-ebdf-4423-9dde-7cdc32b4a54e",
   "metadata": {},
   "outputs": [],
   "source": []
  },
  {
   "cell_type": "code",
   "execution_count": null,
   "id": "e649bd13-9ae9-47c8-b450-bcdc1ff204c2",
   "metadata": {},
   "outputs": [],
   "source": []
  }
 ],
 "metadata": {
  "kernelspec": {
   "display_name": "Python 3 (ipykernel)",
   "language": "python",
   "name": "python3"
  },
  "language_info": {
   "codemirror_mode": {
    "name": "ipython",
    "version": 3
   },
   "file_extension": ".py",
   "mimetype": "text/x-python",
   "name": "python",
   "nbconvert_exporter": "python",
   "pygments_lexer": "ipython3",
   "version": "3.9.23"
  }
 },
 "nbformat": 4,
 "nbformat_minor": 5
}
